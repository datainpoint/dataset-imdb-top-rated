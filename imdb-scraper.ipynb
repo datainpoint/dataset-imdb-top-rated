{
 "cells": [
  {
   "cell_type": "code",
   "execution_count": 1,
   "metadata": {},
   "outputs": [],
   "source": [
    "import sqlite3\n",
    "import pandas as pd\n",
    "import requests\n",
    "from bs4 import BeautifulSoup"
   ]
  },
  {
   "cell_type": "code",
   "execution_count": 2,
   "metadata": {},
   "outputs": [],
   "source": [
    "class IMDBScraper:\n",
    "    def get_top_rated(self):\n",
    "        request_headers = {\n",
    "            'accept-language': 'en,en-US'\n",
    "        }\n",
    "        response = requests.get('https://www.imdb.com/chart/top', headers=request_headers)\n",
    "        soup = BeautifulSoup(response.text)\n",
    "        movie_titles = [e.text for e in soup.select('.titleColumn a')]\n",
    "        movie_ratings = [float(e.text) for e in soup.select('strong')]\n",
    "        movie_years = [int(e.text.replace('(', '').replace(')', '')) for e in soup.select('.secondaryInfo')]\n",
    "        top_rated_movies = pd.DataFrame()\n",
    "        top_rated_movies['title'] = movie_titles\n",
    "        top_rated_movies['release_year'] = movie_years\n",
    "        top_rated_movies['imdb_rating'] = movie_ratings\n",
    "        return top_rated_movies"
   ]
  },
  {
   "cell_type": "code",
   "execution_count": 3,
   "metadata": {},
   "outputs": [],
   "source": [
    "imdb_scraper = IMDBScraper()\n",
    "top_rated = imdb_scraper.get_top_rated()"
   ]
  },
  {
   "cell_type": "code",
   "execution_count": 4,
   "metadata": {},
   "outputs": [],
   "source": [
    "top_rated.to_csv('imdb_top_rated.csv', index=False)"
   ]
  },
  {
   "cell_type": "code",
   "execution_count": 5,
   "metadata": {},
   "outputs": [],
   "source": [
    "top_rated.to_csv('imdb_top_rated.txt', index=False, sep=';')"
   ]
  },
  {
   "cell_type": "code",
   "execution_count": 6,
   "metadata": {},
   "outputs": [],
   "source": [
    "top_rated.to_json('imdb_top_rated.json', orient='records', force_ascii=False)"
   ]
  },
  {
   "cell_type": "code",
   "execution_count": 7,
   "metadata": {},
   "outputs": [],
   "source": [
    "top_rated.to_excel('imdb_top_rated.xlsx', index=False)"
   ]
  },
  {
   "cell_type": "code",
   "execution_count": 8,
   "metadata": {},
   "outputs": [],
   "source": [
    "conn = sqlite3.connect('imdb.db')\n",
    "top_rated.to_sql('top_rated', conn, index=False, if_exists='replace')"
   ]
  }
 ],
 "metadata": {
  "kernelspec": {
   "display_name": "Python Data Analysis",
   "language": "python",
   "name": "pyda"
  },
  "language_info": {
   "codemirror_mode": {
    "name": "ipython",
    "version": 3
   },
   "file_extension": ".py",
   "mimetype": "text/x-python",
   "name": "python",
   "nbconvert_exporter": "python",
   "pygments_lexer": "ipython3",
   "version": "3.6.8"
  }
 },
 "nbformat": 4,
 "nbformat_minor": 4
}
