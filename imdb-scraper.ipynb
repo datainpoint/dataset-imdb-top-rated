{
 "cells": [
  {
   "cell_type": "code",
   "execution_count": 1,
   "metadata": {},
   "outputs": [],
   "source": [
    "import sqlite3\n",
    "import pandas as pd\n",
    "import requests\n",
    "from bs4 import BeautifulSoup"
   ]
  },
  {
   "cell_type": "code",
   "execution_count": 58,
   "metadata": {},
   "outputs": [],
   "source": [
    "request_headers = {\n",
    "    'accept-language': \"en,en-US;\",\n",
    "}\n",
    "response = requests.get('https://www.imdb.com/chart/top', headers=request_headers)"
   ]
  },
  {
   "cell_type": "code",
   "execution_count": 59,
   "metadata": {},
   "outputs": [
    {
     "name": "stdout",
     "output_type": "stream",
     "text": [
      "['The Shawshank Redemption', 'The Godfather', 'The Godfather: Part II', 'The Dark Knight', '12 Angry Men', \"Schindler's List\", 'The Lord of the Rings: The Return of the King', 'Pulp Fiction', 'The Good, the Bad and the Ugly', 'The Lord of the Rings: The Fellowship of the Ring', 'Fight Club', 'Forrest Gump', 'Inception', 'The Lord of the Rings: The Two Towers', 'Star Wars: Episode V - The Empire Strikes Back', 'The Matrix', 'Goodfellas', \"One Flew Over the Cuckoo's Nest\", 'Seven Samurai', 'Se7en', 'Life Is Beautiful', 'City of God', 'The Silence of the Lambs', \"It's a Wonderful Life\", 'Star Wars: Episode IV - A New Hope', 'Saving Private Ryan', 'Spirited Away', 'The Green Mile', 'Interstellar', 'Parasite', 'Léon: The Professional', 'The Usual Suspects', 'Harakiri', 'The Lion King', 'Back to the Future', 'The Pianist', 'Terminator 2: Judgment Day', 'American History X', 'Modern Times', 'Psycho', 'Gladiator', 'City Lights', 'The Departed', 'The Intouchables', 'Whiplash', 'The Prestige', 'Hamilton', 'Grave of the Fireflies', 'Once Upon a Time in the West', 'Casablanca', 'Cinema Paradiso', 'Rear Window', 'Alien', 'Apocalypse Now', 'Memento', 'The Great Dictator', 'Raiders of the Lost Ark', 'Django Unchained', 'The Lives of Others', 'Joker', 'Paths of Glory', 'WALL·E', 'The Shining', 'Avengers: Infinity War', 'Sunset Blvd.', 'Witness for the Prosecution', 'Princess Mononoke', 'Oldboy', 'Spider-Man: Into the Spider-Verse', 'Dr. Strangelove or: How I Learned to Stop Worrying and Love the Bomb', 'The Dark Knight Rises', 'Once Upon a Time in America', 'Aliens', 'Your Name.', 'Avengers: Endgame', 'Coco', 'American Beauty', 'Braveheart', '3 Idiots', 'Das Boot', 'Toy Story', 'High and Low', 'Amadeus', 'Capernaum', 'Inglourious Basterds', 'Star Wars: Episode VI - Return of the Jedi', '心中的小星星', 'Good Will Hunting', 'Reservoir Dogs', '2001: A Space Odyssey', 'Requiem for a Dream', 'Vertigo', 'M', 'Eternal Sunshine of the Spotless Mind', 'Dangal', 'The Hunt', 'Citizen Kane', '1917', 'Full Metal Jacket', 'Bicycle Thieves', 'The Kid', \"Singin' in the Rain\", 'A Clockwork Orange', 'North by Northwest', 'Snatch', 'Scarface', 'Taxi Driver', 'Ikiru', 'Amélie', 'Lawrence of Arabia', 'Toy Story 3', 'The Sting', 'Metropolis', 'A Separation', 'Incendies', 'For a Few Dollars More', 'Come and See', 'The Apartment', 'Double Indemnity', 'To Kill a Mockingbird', 'Up', 'Indiana Jones and the Last Crusade', 'Heat', 'L.A. Confidential', 'Die Hard', 'Monty Python and the Holy Grail', 'Rashomon', 'Yojimbo', 'Batman Begins', 'Green Book', 'Downfall', 'Children of Heaven', 'Unforgiven', 'Ran', 'Some Like It Hot', \"Howl's Moving Castle\", 'A Beautiful Mind', 'All About Eve', 'Casino', 'The Great Escape', 'The Wolf of Wall Street', \"Pan's Labyrinth\", 'The Secret in Their Eyes', 'Lock, Stock and Two Smoking Barrels', 'Anand', 'There Will Be Blood', 'Raging Bull', 'My Neighbor Totoro', 'Judgment at Nuremberg', 'The Treasure of the Sierra Madre', 'Dial M for Murder', 'Three Billboards Outside Ebbing, Missouri', 'Chinatown', 'The Gold Rush', 'My Father and My Son', 'Shutter Island', 'No Country for Old Men', 'V for Vendetta', 'The Seventh Seal', 'Inside Out', 'Warrior', 'The Elephant Man', 'The Thing', 'The Sixth Sense', 'Trainspotting', 'Jurassic Park', 'Gone with the Wind', 'The Truman Show', 'Finding Nemo', 'Wild Strawberries', 'Blade Runner', 'Stalker', 'Kill Bill: Vol. 1', 'The Bridge on the River Kwai', 'Room', 'Fargo', 'Memories of Murder', 'Tokyo Story', 'The Third Man', 'Gran Torino', 'On the Waterfront', 'Wild Tales', 'Vikram Vedha', 'The Deer Hunter', 'Klaus', 'In the Name of the Father', 'Mary and Max', 'Gone Girl', 'The Grand Budapest Hotel', 'Hacksaw Ridge', 'Andhadhun', 'Before Sunrise', 'Catch Me If You Can', 'The Big Lebowski', 'Persona', 'To Be or Not to Be', 'Prisoners', 'Sherlock Jr.', 'The Bandit', 'The General', 'How to Train Your Dragon', 'Ford v Ferrari', 'Mr. Smith Goes to Washington', '12 Years a Slave', 'Barry Lyndon', 'Mad Max: Fury Road', 'Million Dollar Baby', 'Stand by Me', 'Network', 'Cool Hand Luke', 'Dead Poets Society', 'Ben-Hur', \"Hachi: A Dog's Tale\", 'Harry Potter and the Deathly Hallows: Part 2', 'Platoon', 'Into the Wild', 'Logan', 'The Wages of Fear', \"Monty Python's Life of Brian\", 'Rush', 'The Handmaiden', 'The Passion of Joan of Arc', 'The 400 Blows', 'Andrei Rublev', 'Hotel Rwanda', 'Spotlight', 'Amores Perros', 'La Haine', 'Rififi', 'Nausicaä of the Valley of the Wind', 'Rocky', 'Gangs of Wasseypur', 'Monsters, Inc.', 'Rebecca', '芭薩提的顏色', 'Before Sunset', 'Portrait of a Lady on Fire', 'In the Mood for Love', 'Paris, Texas', 'It Happened One Night', 'Drishyam', 'The Invisible Guest', 'The Princess Bride', 'The Help', 'The Circus', 'The Battle of Algiers', 'The Terminator', 'A Silent Voice: The Movie', 'Aladdin', 'Tangerines']\n"
     ]
    }
   ],
   "source": [
    "#print(response.content)\n",
    "soup = BeautifulSoup(response.text)\n",
    "movie_titles = [e.text for e in soup.select('.titleColumn a')]\n",
    "print(movie_titles)"
   ]
  },
  {
   "cell_type": "code",
   "execution_count": 25,
   "metadata": {},
   "outputs": [],
   "source": [
    "class IMDBScraper:\n",
    "    def get_top_rated(self):\n",
    "        request_headers = {\n",
    "            'accept-language': \"en-US,en;q=1.0\",\n",
    "            'content-language': 'en-US',\n",
    "            'user-agent': 'user-agent: Mozilla/5.0 (Macintosh; Intel Mac OS X 10_15_7) AppleWebKit/537.36 (KHTML, like Gecko) Chrome/86.0.4240.183 Safari/537.36'\n",
    "        }\n",
    "        response = requests.get('https://www.imdb.com/chart/top', headers=request_headers)\n",
    "        soup = BeautifulSoup(response.text)\n",
    "        movie_titles = [e.text for e in soup.select('.titleColumn a')]\n",
    "        movie_ratings = [float(e.text) for e in soup.select('strong')]\n",
    "        movie_years = [int(e.text.replace('(', '').replace(')', '')) for e in soup.select('.secondaryInfo')]\n",
    "        top_rated_movies = pd.DataFrame()\n",
    "        top_rated_movies['title'] = movie_titles\n",
    "        top_rated_movies['release_year'] = movie_years\n",
    "        top_rated_movies['imdb_rating'] = movie_ratings\n",
    "        return top_rated_movies"
   ]
  },
  {
   "cell_type": "code",
   "execution_count": 26,
   "metadata": {},
   "outputs": [],
   "source": [
    "imdb_scraper = IMDBScraper()\n",
    "top_rated = imdb_scraper.get_top_rated()"
   ]
  },
  {
   "cell_type": "code",
   "execution_count": 27,
   "metadata": {},
   "outputs": [
    {
     "data": {
      "text/plain": [
       "array(['The Shawshank Redemption', 'The Godfather',\n",
       "       'The Godfather: Part II', 'The Dark Knight', '12 Angry Men',\n",
       "       \"Schindler's List\",\n",
       "       'The Lord of the Rings: The Return of the King', 'Pulp Fiction',\n",
       "       'The Good, the Bad and the Ugly',\n",
       "       'The Lord of the Rings: The Fellowship of the Ring', 'Fight Club',\n",
       "       'Forrest Gump', 'Inception',\n",
       "       'The Lord of the Rings: The Two Towers',\n",
       "       'Star Wars: Episode V - The Empire Strikes Back', 'The Matrix',\n",
       "       'Goodfellas', \"One Flew Over the Cuckoo's Nest\", 'Seven Samurai',\n",
       "       'Se7en', 'Life Is Beautiful', 'City of God',\n",
       "       'The Silence of the Lambs', \"It's a Wonderful Life\",\n",
       "       'Star Wars: Episode IV - A New Hope', 'Saving Private Ryan',\n",
       "       'Spirited Away', 'The Green Mile', 'Interstellar', 'Parasite',\n",
       "       'Léon: The Professional', 'The Usual Suspects', 'Harakiri',\n",
       "       'The Lion King', 'Back to the Future', 'The Pianist',\n",
       "       'Terminator 2: Judgment Day', 'American History X', 'Modern Times',\n",
       "       'Psycho', 'Gladiator', 'City Lights', 'The Departed',\n",
       "       'The Intouchables', 'Whiplash', 'The Prestige', 'Hamilton',\n",
       "       'Grave of the Fireflies', 'Once Upon a Time in the West',\n",
       "       'Casablanca', 'Cinema Paradiso', 'Rear Window', 'Alien',\n",
       "       'Apocalypse Now', 'Memento', 'The Great Dictator',\n",
       "       'Raiders of the Lost Ark', 'Django Unchained',\n",
       "       'The Lives of Others', 'Joker', 'Paths of Glory', 'WALL·E',\n",
       "       'The Shining', 'Avengers: Infinity War', 'Sunset Blvd.',\n",
       "       'Witness for the Prosecution', 'Princess Mononoke', 'Oldboy',\n",
       "       'Spider-Man: Into the Spider-Verse',\n",
       "       'Dr. Strangelove or: How I Learned to Stop Worrying and Love the Bomb',\n",
       "       'The Dark Knight Rises', 'Once Upon a Time in America', 'Aliens',\n",
       "       'Your Name.', 'Avengers: Endgame', 'Coco', 'American Beauty',\n",
       "       'Braveheart', '3 Idiots', 'Das Boot', 'Toy Story', 'High and Low',\n",
       "       'Amadeus', 'Capernaum', 'Inglourious Basterds',\n",
       "       'Star Wars: Episode VI - Return of the Jedi', '心中的小星星',\n",
       "       'Good Will Hunting', 'Reservoir Dogs', '2001: A Space Odyssey',\n",
       "       'Requiem for a Dream', 'Vertigo', 'M',\n",
       "       'Eternal Sunshine of the Spotless Mind', 'Dangal', 'The Hunt',\n",
       "       'Citizen Kane', '1917', 'Full Metal Jacket', 'Bicycle Thieves',\n",
       "       'The Kid', \"Singin' in the Rain\", 'A Clockwork Orange',\n",
       "       'North by Northwest', 'Snatch', 'Scarface', 'Taxi Driver', 'Ikiru',\n",
       "       'Amélie', 'Lawrence of Arabia', 'Toy Story 3', 'The Sting',\n",
       "       'Metropolis', 'A Separation', 'Incendies',\n",
       "       'For a Few Dollars More', 'Come and See', 'The Apartment',\n",
       "       'Double Indemnity', 'To Kill a Mockingbird', 'Up',\n",
       "       'Indiana Jones and the Last Crusade', 'Heat', 'L.A. Confidential',\n",
       "       'Die Hard', 'Monty Python and the Holy Grail', 'Rashomon',\n",
       "       'Yojimbo', 'Batman Begins', 'Green Book', 'Downfall',\n",
       "       'Children of Heaven', 'Unforgiven', 'Ran', 'Some Like It Hot',\n",
       "       \"Howl's Moving Castle\", 'A Beautiful Mind', 'All About Eve',\n",
       "       'Casino', 'The Great Escape', 'The Wolf of Wall Street',\n",
       "       \"Pan's Labyrinth\", 'The Secret in Their Eyes',\n",
       "       'Lock, Stock and Two Smoking Barrels', 'Anand',\n",
       "       'There Will Be Blood', 'Raging Bull', 'My Neighbor Totoro',\n",
       "       'Judgment at Nuremberg', 'The Treasure of the Sierra Madre',\n",
       "       'Dial M for Murder', 'Three Billboards Outside Ebbing, Missouri',\n",
       "       'Chinatown', 'The Gold Rush', 'My Father and My Son',\n",
       "       'Shutter Island', 'No Country for Old Men', 'V for Vendetta',\n",
       "       'The Seventh Seal', 'Inside Out', 'Warrior', 'The Elephant Man',\n",
       "       'The Thing', 'The Sixth Sense', 'Trainspotting', 'Jurassic Park',\n",
       "       'Gone with the Wind', 'The Truman Show', 'Finding Nemo',\n",
       "       'Wild Strawberries', 'Blade Runner', 'Stalker',\n",
       "       'Kill Bill: Vol. 1', 'The Bridge on the River Kwai', 'Room',\n",
       "       'Fargo', 'Memories of Murder', 'Tokyo Story', 'The Third Man',\n",
       "       'Gran Torino', 'On the Waterfront', 'Wild Tales', 'Vikram Vedha',\n",
       "       'The Deer Hunter', 'Klaus', 'In the Name of the Father',\n",
       "       'Mary and Max', 'Gone Girl', 'The Grand Budapest Hotel',\n",
       "       'Hacksaw Ridge', 'Andhadhun', 'Before Sunrise',\n",
       "       'Catch Me If You Can', 'The Big Lebowski', 'Persona',\n",
       "       'To Be or Not to Be', 'Prisoners', 'Sherlock Jr.', 'The Bandit',\n",
       "       'The General', 'How to Train Your Dragon', 'Ford v Ferrari',\n",
       "       'Mr. Smith Goes to Washington', '12 Years a Slave', 'Barry Lyndon',\n",
       "       'Mad Max: Fury Road', 'Million Dollar Baby', 'Stand by Me',\n",
       "       'Network', 'Cool Hand Luke', 'Dead Poets Society', 'Ben-Hur',\n",
       "       \"Hachi: A Dog's Tale\",\n",
       "       'Harry Potter and the Deathly Hallows: Part 2', 'Platoon',\n",
       "       'Into the Wild', 'Logan', 'The Wages of Fear',\n",
       "       \"Monty Python's Life of Brian\", 'Rush', 'The Handmaiden',\n",
       "       'The Passion of Joan of Arc', 'The 400 Blows', 'Andrei Rublev',\n",
       "       'Hotel Rwanda', 'Spotlight', 'Amores Perros', 'La Haine', 'Rififi',\n",
       "       'Nausicaä of the Valley of the Wind', 'Rocky',\n",
       "       'Gangs of Wasseypur', 'Monsters, Inc.', 'Rebecca', '芭薩提的顏色',\n",
       "       'Before Sunset', 'Portrait of a Lady on Fire',\n",
       "       'In the Mood for Love', 'Paris, Texas', 'It Happened One Night',\n",
       "       'Drishyam', 'The Invisible Guest', 'The Princess Bride',\n",
       "       'The Help', 'The Circus', 'The Battle of Algiers',\n",
       "       'The Terminator', 'A Silent Voice: The Movie', 'Aladdin',\n",
       "       'Tangerines'], dtype=object)"
      ]
     },
     "execution_count": 27,
     "metadata": {},
     "output_type": "execute_result"
    }
   ],
   "source": [
    "top_rated['title'].unique()"
   ]
  },
  {
   "cell_type": "code",
   "execution_count": 4,
   "metadata": {},
   "outputs": [],
   "source": [
    "top_rated.to_csv('imdb_top_rated.csv', index=False)"
   ]
  },
  {
   "cell_type": "code",
   "execution_count": 5,
   "metadata": {},
   "outputs": [],
   "source": [
    "top_rated.to_csv('imdb_top_rated.txt', index=False, sep=';')"
   ]
  },
  {
   "cell_type": "code",
   "execution_count": 6,
   "metadata": {},
   "outputs": [],
   "source": [
    "top_rated.to_json('imdb_top_rated.json', orient='records', force_ascii=False)"
   ]
  },
  {
   "cell_type": "code",
   "execution_count": 7,
   "metadata": {},
   "outputs": [],
   "source": [
    "top_rated.to_excel('imdb_top_rated.xlsx', index=False)"
   ]
  },
  {
   "cell_type": "code",
   "execution_count": 8,
   "metadata": {},
   "outputs": [],
   "source": [
    "conn = sqlite3.connect('imdb.db')\n",
    "top_rated.to_sql('top_rated', conn, index=False, if_exists='replace')"
   ]
  }
 ],
 "metadata": {
  "kernelspec": {
   "display_name": "Python Data Analysis",
   "language": "python",
   "name": "pyda"
  },
  "language_info": {
   "codemirror_mode": {
    "name": "ipython",
    "version": 3
   },
   "file_extension": ".py",
   "mimetype": "text/x-python",
   "name": "python",
   "nbconvert_exporter": "python",
   "pygments_lexer": "ipython3",
   "version": "3.6.8"
  }
 },
 "nbformat": 4,
 "nbformat_minor": 4
}
